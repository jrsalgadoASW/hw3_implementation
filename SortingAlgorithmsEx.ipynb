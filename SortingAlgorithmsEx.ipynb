{
 "cells": [
  {
   "cell_type": "markdown",
   "id": "2808fdf9",
   "metadata": {},
   "source": [
    "# Sorting"
   ]
  },
  {
   "cell_type": "code",
   "execution_count": 2,
   "id": "b46b410f",
   "metadata": {},
   "outputs": [],
   "source": [
    "import time\n",
    "import numpy as np\n",
    "np.random.seed(0)"
   ]
  },
  {
   "cell_type": "code",
   "execution_count": 3,
   "id": "881e765c",
   "metadata": {},
   "outputs": [],
   "source": [
    "data = np.random.randint(1,10000,17000)"
   ]
  },
  {
   "cell_type": "markdown",
   "id": "7dbcaac0",
   "metadata": {},
   "source": [
    "### Insertion Sort"
   ]
  },
  {
   "cell_type": "markdown",
   "id": "37511b3a",
   "metadata": {},
   "source": [
    "1. Start by considering the first element in the array as sorted.\n",
    "2. Pick the second element in the array and store it in a variable called \"key\".\n",
    "3. Compare the key to each element in the sorted subarray (to the left of the key) in reverse order.\n",
    "4. If any of the elements in the sorted subarray is greater than the key, move it one position ahead of its current position.\n",
    "5. Once all elements have been compared and shifted as necessary, insert the key in the correct position.\n",
    "6. Repeat the process for all elements in the array.\n",
    "The array will be fully sorted once all elements have been processed."
   ]
  },
  {
   "cell_type": "code",
   "execution_count": 4,
   "id": "8367af5b",
   "metadata": {},
   "outputs": [],
   "source": [
    "from typing import List\n",
    "\n",
    "def insertion_sort_impl(arr: List[int]) -> List[int]:\n",
    "    for i in range(1, len(arr)):\n",
    "        key = arr[i]\n",
    "        j = i - 1\n",
    "        while j >= 0 and arr[j] > key:\n",
    "            arr[j + 1] = arr[j]\n",
    "            j -= 1\n",
    "        arr[j + 1] = key\n",
    "    return arr\n"
   ]
  },
  {
   "cell_type": "code",
   "execution_count": 8,
   "id": "b04ff63f",
   "metadata": {},
   "outputs": [],
   "source": [
    "def insertion_sort(arr):\n",
    "    start = time.time()\n",
    "    arr = insertion_sort_impl(arr)\n",
    "    #Implement Insertion Sort\n",
    "    end = time.time()\n",
    "    print(\"The time of execution of above program is :\", (end-start) * 10**3, \"ms\", \"for a size of \", len(arr))\n",
    "    return arr"
   ]
  },
  {
   "cell_type": "code",
   "execution_count": 9,
   "id": "938bce08",
   "metadata": {},
   "outputs": [
    {
     "name": "stdout",
     "output_type": "stream",
     "text": [
      "The time of execution of above program is : 15654.155731201172 ms for a size of  17000\n"
     ]
    }
   ],
   "source": [
    "arr= insertion_sort(data)"
   ]
  },
  {
   "cell_type": "code",
   "execution_count": 152,
   "id": "4a6799ab",
   "metadata": {},
   "outputs": [
    {
     "data": {
      "text/plain": [
       "array([   1,    2,    3, ..., 9998, 9999, 9999])"
      ]
     },
     "execution_count": 152,
     "metadata": {},
     "output_type": "execute_result"
    }
   ],
   "source": [
    "arr"
   ]
  },
  {
   "cell_type": "markdown",
   "id": "660c72b1",
   "metadata": {},
   "source": [
    "### Merge Sort"
   ]
  },
  {
   "attachments": {},
   "cell_type": "markdown",
   "id": "686853c3",
   "metadata": {},
   "source": [
    "1. If the list has only one element, return it as the sorted list. This is the base case for the recursive algorithm, as a list of one element is already considered sorted.\n",
    "\n",
    "2. Split the list into two equal parts. This is typically done by dividing the length of the list by 2, and creating two separate lists from the first and second halves.\n",
    "\n",
    "3. Recursively sort each half of the list. This involves calling the merge sort function on each half of the list, until each half is reduced to a list of one element, which is considered sorted.\n",
    "\n",
    "4. Merge the two sorted halves of the list back into one sorted list. This involves comparing the first elements of each list, taking the smaller of the two, and adding it to a new list. This process is repeated until all elements from both lists have been added to the new list, resulting in a single sorted list.\n",
    "\n",
    "5. Repeat steps 1 to 4 until the entire list is sorted. This process is repeated recursively until the entire list is sorted. At the end, the result is a single, sorted list that contains all the elements of the original list in sorted order."
   ]
  },
  {
   "cell_type": "code",
   "execution_count": 10,
   "id": "49e26c66",
   "metadata": {},
   "outputs": [],
   "source": [
    "from typing import List\n",
    "\n",
    "def merge_sort(arr: List[int]) -> List[int]:\n",
    "    \"\"\"\n",
    "    The main merge sort function, which sorts the input list recursively\n",
    "    by dividing it into halves and sorting each half.\n",
    "    \"\"\"\n",
    "    if len(arr) > 1:\n",
    "        mid = len(arr) // 2\n",
    "        left = arr[:mid]\n",
    "        right = arr[mid:]\n",
    "\n",
    "        merge_sort(left)\n",
    "        merge_sort(right)\n",
    "\n",
    "        merge(arr, left, right)\n",
    "\n",
    "    return arr\n",
    "\n",
    "def merge(arr: List[int], left: List[int], right: List[int]) -> None:\n",
    "    \"\"\"\n",
    "    The merge function, which merges two sorted lists into a single sorted list.\n",
    "    \"\"\"\n",
    "    i = j = k = 0\n",
    "\n",
    "    while i < len(left) and j < len(right):\n",
    "        if left[i] < right[j]:\n",
    "            arr[k] = left[i]\n",
    "            i += 1\n",
    "        else:\n",
    "            arr[k] = right[j]\n",
    "            j += 1\n",
    "        k += 1\n",
    "\n",
    "    while i < len(left):\n",
    "        arr[k] = left[i]\n",
    "        i += 1\n",
    "        k += 1\n",
    "\n",
    "    while j < len(right):\n",
    "        arr[k] = right[j]\n",
    "        j += 1\n",
    "        k += 1"
   ]
  },
  {
   "cell_type": "code",
   "execution_count": 14,
   "id": "aed116e6",
   "metadata": {},
   "outputs": [],
   "source": [
    "#This method is just to calculate the time, if you don't need it, don't worry\n",
    "def merge_algorithm(arr):\n",
    "    start = time.time()\n",
    "    arr = merge_sort(arr)\n",
    "    end = time.time()\n",
    "    print(\"The time of execution of above program is :\", (end-start) * 10**3, \"ms\", \"for a size of \", len(arr))\n",
    "    return arr"
   ]
  },
  {
   "cell_type": "code",
   "execution_count": 15,
   "id": "b2a7dbef",
   "metadata": {},
   "outputs": [],
   "source": [
    "data = np.random.randint(1,10000,17000)"
   ]
  },
  {
   "cell_type": "code",
   "execution_count": 16,
   "id": "65df9aa5",
   "metadata": {},
   "outputs": [
    {
     "name": "stdout",
     "output_type": "stream",
     "text": [
      "The time of execution of above program is : 99.61676597595215 ms for a size of  17000\n"
     ]
    },
    {
     "data": {
      "text/plain": [
       "array([   1,    1,    1, ...,  124, 4889, 7624])"
      ]
     },
     "execution_count": 16,
     "metadata": {},
     "output_type": "execute_result"
    }
   ],
   "source": [
    "merge_algorithm(data)"
   ]
  },
  {
   "attachments": {},
   "cell_type": "markdown",
   "id": "9d4798e7",
   "metadata": {},
   "source": [
    "### Binary Search\n",
    "\n",
    "Know implement another algorithm, anyone works. Use the same size of data."
   ]
  },
  {
   "attachments": {},
   "cell_type": "markdown",
   "id": "3741fe6c",
   "metadata": {},
   "source": [
    "## Algorithm"
   ]
  },
  {
   "attachments": {},
   "cell_type": "markdown",
   "id": "721723d9",
   "metadata": {},
   "source": [
    "1. Initialize start = 0, end = n-1, where n is the size of the list to be searched.\n",
    "2. Calculate the middle index as mid = (start + end) // 2.\n",
    "3. If the value at the middle index is equal to the target value, return mid.\n",
    "4. If the value at the middle index is less than the target value, set start = mid + 1 and go back to step 2.\n",
    "5. If the value at the middle index is greater than the target value, set end = mid - 1 and go back to step 2.\n",
    "6. If start > end, the target value is not in the list and the algorithm returns -1.\n"
   ]
  },
  {
   "cell_type": "code",
   "execution_count": 19,
   "id": "a894e34b",
   "metadata": {},
   "outputs": [],
   "source": [
    "from typing import List\n",
    "\n",
    "def binary_search_impl(arr: List[int], target: int) -> int:\n",
    "    start = 0\n",
    "    end = len(arr) - 1\n",
    "    \n",
    "    while start <= end:\n",
    "        mid = (start + end) // 2\n",
    "        if arr[mid] == target:\n",
    "            return mid\n",
    "        elif arr[mid] < target:\n",
    "            start = mid + 1\n",
    "        else:\n",
    "            end = mid - 1\n",
    "    \n",
    "    return -1\n"
   ]
  },
  {
   "cell_type": "code",
   "execution_count": 20,
   "id": "f2a0eb8d",
   "metadata": {},
   "outputs": [],
   "source": [
    "\n",
    "def binary_search(arr, target):\n",
    "    start = time.time()\n",
    "    idx = binary_search_impl(arr, target)\n",
    "    end = time.time()\n",
    "    print(\"The time of execution of above program is :\", (end-start) * 10**3, \"ms\", \"for a size of \", len(arr))\n",
    "    return idx"
   ]
  },
  {
   "cell_type": "code",
   "execution_count": 24,
   "id": "71a48ef4",
   "metadata": {},
   "outputs": [],
   "source": [
    "data:list = np.random.randint(1,10000,17000)\n",
    "# binary search needs sorted data\n",
    "data.sort()"
   ]
  },
  {
   "cell_type": "code",
   "execution_count": 35,
   "id": "4c7e907f",
   "metadata": {},
   "outputs": [
    {
     "name": "stdout",
     "output_type": "stream",
     "text": [
      "The time of execution of above program is : 0.0073909759521484375 ms for a size of  17000\n"
     ]
    },
    {
     "data": {
      "text/plain": [
       "9585"
      ]
     },
     "execution_count": 35,
     "metadata": {},
     "output_type": "execute_result"
    }
   ],
   "source": [
    "binary_search(data, np.random.randint(1,10000))\n"
   ]
  },
  {
   "cell_type": "markdown",
   "id": "7a20750b",
   "metadata": {},
   "source": [
    "### Conclusions\n",
    "\n",
    "So, the algorithm matters! Even when the result is the same, the time it takes is important. We are in the era of Big Data, if we are not careful, some processing might take centuries!"
   ]
  },
  {
   "cell_type": "code",
   "execution_count": null,
   "id": "a400d5f9",
   "metadata": {},
   "outputs": [],
   "source": []
  }
 ],
 "metadata": {
  "kernelspec": {
   "display_name": ".venv",
   "language": "python",
   "name": "python3"
  },
  "language_info": {
   "codemirror_mode": {
    "name": "ipython",
    "version": 3
   },
   "file_extension": ".py",
   "mimetype": "text/x-python",
   "name": "python",
   "nbconvert_exporter": "python",
   "pygments_lexer": "ipython3",
   "version": "3.10.6"
  },
  "vscode": {
   "interpreter": {
    "hash": "f5287cf57d1fef971e9326bb2d8775dacaf749cbbfb9b00543093c19de8c8526"
   }
  }
 },
 "nbformat": 4,
 "nbformat_minor": 5
}
